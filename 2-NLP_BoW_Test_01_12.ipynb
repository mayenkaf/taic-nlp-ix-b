{
  "nbformat": 4,
  "nbformat_minor": 0,
  "metadata": {
    "colab": {
      "name": "NLP-BoW-Test-01-12.ipynb",
      "provenance": []
    },
    "kernelspec": {
      "name": "python3",
      "display_name": "Python 3"
    }
  },
  "cells": [
    {
      "cell_type": "markdown",
      "metadata": {
        "id": "F-bO_eshIyr6"
      },
      "source": [
        "# Ejercicios de Identificación Simple de Texto\n",
        "\n",
        "Codigo de Estudiante:....\n",
        "\n",
        "Apellidos y Nombres:.....\n",
        "\n",
        "Fecha de Presentación:...\n",
        "\n",
        "*@author: mfch*\n"
      ]
    },
    {
      "cell_type": "markdown",
      "metadata": {
        "id": "Z5PtvyD5FG0Y"
      },
      "source": [
        "## Test 02\n",
        "\n",
        "Usará el archivo *wiki_text_debugging.txt*\n",
        "\n",
        "**Instrucciones**\n",
        "1. Importe  Counter del módulo colecciones.\n",
        "2. Use **word_tokenize()** para dividir el artículo en tokens.\n",
        "3. Utilice una lista comprimida con t como variable de iterador para convertir todos los tokens en minúsculas. El método **.lower()** convierte el texto en minúsculas.\n",
        "4. Cree un contador de bolsa de palabras llamado bow_simple usando **Counter()** con *lower_tokens* como argumento.\n",
        "5. Utilice el método **.most_common()** de bow_simple para imprimir los 12 tokens más comunes."
      ]
    },
    {
      "cell_type": "code",
      "metadata": {
        "colab": {
          "base_uri": "https://localhost:8080/",
          "height": 137
        },
        "id": "ykqrSr5YFDOk",
        "outputId": "7b2f9ca0-373f-4e5b-fd4e-34f7f1863264"
      },
      "source": [
        "with open('/content/wiki_text_debugging.txt', mode='r', encoding='utf-8-sig') as f:\n",
        "  articulo = f.read()\n",
        "articulo"
      ],
      "execution_count": null,
      "outputs": [
        {
          "output_type": "execute_result",
          "data": {
            "application/vnd.google.colaboratory.intrinsic+json": {
              "type": "string"
            },
            "text/plain": [
              "'\\'\\'\\'Debugging\\'\\'\\' is the process of finding and resolving of defects that prevent correct operation of computer software or a system.  \\n\\nNumerous books have been written about debugging (see below: #Further reading|Further reading), as it involves numerous aspects, including interactive debugging, control flow, integration testing, Logfile|log files, monitoring (Application monitoring|application, System Monitoring|system), memory dumps, Profiling (computer programming)|profiling, Statistical Process Control, and special design tactics to improve detection while simplifying changes.\\n\\nOrigin\\nA computer log entry from the Mark&nbsp;II, with a moth taped to the page\\n\\nThe terms \"bug\" and \"debugging\" are popularly attributed to Admiral Grace Hopper in the 1940s.[http://foldoc.org/Grace+Hopper Grace Hopper]  from FOLDOC While she was working on a Harvard Mark II|Mark II Computer at Harvard University, her associates discovered a moth stuck in a relay and thereby impeding operation, whereupon she remarked that they were \"debugging\" the system. However the term \"bug\" in the meaning of technical error dates back at least to 1878 and Thomas Edison (see software bug for a full discussion), and \"debugging\" seems to have been used as a term in aeronautics before entering the world of computers. Indeed, in an interview Grace Hopper remarked that she was not coining the term{{Citation needed|date=July 2015}}. The moth fit the already existing terminology, so it was saved.  A letter from J. Robert Oppenheimer (director of the WWII atomic bomb \"Manhattan\" project at Los Alamos, NM) used the term in a letter to Dr. Ernest Lawrence at UC Berkeley, dated October 27, 1944,http://bancroft.berkeley.edu/Exhibits/physics/images/bigscience25.jpg regarding the recruitment of additional technical staff.\\n\\nThe Oxford English Dictionary entry for \"debug\" quotes the term \"debugging\" used in reference to airplane engine testing in a 1945 article in the Journal of the Royal Aeronautical Society. An article in \"Airforce\" (June 1945 p.&nbsp;50) also refers to debugging, this time of aircraft cameras.  Hopper\\'s computer bug|bug was found on September 9, 1947. The term was not adopted by computer programmers until the early 1950s.\\nThe seminal article by GillS. Gill, [http://www.jstor.org/stable/98663 The Diagnosis of Mistakes in Programmes on the EDSAC], Proceedings of the Royal Society of London. Series A, Mathematical and Physical Sciences, Vol. 206, No. 1087 (May 22, 1951), pp. 538-554 in 1951 is the earliest in-depth discussion of programming errors, but it does not use the term \"bug\" or \"debugging\".\\nIn the Association for Computing Machinery|ACM\\'s digital library, the term \"debugging\" is first used in three papers from 1952 ACM National Meetings.Robert V. D. Campbell, [http://portal.acm.org/citation.cfm?id=609784.609786 Evolution of automatic computation], Proceedings of the 1952 ACM national meeting (Pittsburgh), p 29-32, 1952.Alex Orden, [http://portal.acm.org/citation.cfm?id=609784.609793 Solution of systems of linear inequalities on a digital computer], Proceedings of the 1952 ACM national meeting (Pittsburgh), p. 91-95, 1952.Howard B. Demuth, John B. Jackson, Edmund Klein, N. Metropolis, Walter Orvedahl, James H. Richardson, [http://portal.acm.org/citation.cfm?id=800259.808982 MANIAC], Proceedings of the 1952 ACM national meeting (Toronto), p. 13-16 Two of the three use the term in quotation marks.\\nBy 1963 \"debugging\" was a common enough term to be mentioned in passing without explanation on page 1 of the Compatible Time-Sharing System|CTSS manual.[http://www.bitsavers.org/pdf/mit/ctss/CTSS_ProgrammersGuide.pdf The Compatible Time-Sharing System], M.I.T. Press, 1963\\n\\nKidwell\\'s article \\'\\'Stalking the Elusive Computer Bug\\'\\'Peggy Aldrich Kidwell, [http://ieeexplore.ieee.org/xpl/freeabs_all.jsp?tp=&arnumber=728224&isnumber=15706 Stalking the Elusive Computer Bug], IEEE Annals of the History of Computing, 1998. discusses the etymology of \"bug\" and \"debug\" in greater detail.\\n\\nScope\\nAs software and electronic systems have become generally more complex, the various common debugging techniques have expanded with more methods to detect anomalies, assess impact, and schedule software patches or full updates to a system. The words \"anomaly\" and \"discrepancy\" can be used, as being more neutral terms, to avoid the words \"error\" and \"defect\" or \"bug\" where there might be an implication that all so-called \\'\\'errors\\'\\', \\'\\'defects\\'\\' or \\'\\'bugs\\'\\' must be fixed (at all costs). Instead, an impact assessment can be made to determine if changes to remove an \\'\\'anomaly\\'\\' (or \\'\\'discrepancy\\'\\') would be cost-effective for the system, or perhaps a scheduled new release might render the change(s) unnecessary. Not all issues are life-critical or mission-critical in a system. Also, it is important to avoid the situation where a change might be more upsetting to users, long-term, than living with the known problem(s) (where the \"cure would be worse than the disease\"). Basing decisions of the acceptability of some anomalies can avoid a culture of a \"zero-defects\" mandate, where people might be tempted to deny the existence of problems so that the result would appear as zero \\'\\'defects\\'\\'. Considering the collateral issues, such as the cost-versus-benefit impact assessment, then broader debugging techniques will expand to determine the frequency of anomalies (how often the same \"bugs\" occur) to help assess their impact to the overall system.\\n\\nTools\\nDebugging on video game consoles is usually done with special hardware such as this Xbox (console)|Xbox debug unit intended for developers.\\n\\nDebugging ranges in complexity from fixing simple errors to performing lengthy and tiresome tasks of data collection, analysis, and scheduling updates.  The debugging skill of the programmer can be a major factor in the ability to debug a problem, but the difficulty of software debugging varies greatly with the complexity of the system, and also depends, to some extent, on the programming language(s) used and the available tools, such as \\'\\'debuggers\\'\\'. Debuggers are software tools which enable the programmer to monitor the execution (computers)|execution of a program, stop it, restart it, set breakpoints, and change values in memory. The term \\'\\'debugger\\'\\' can also refer to the person who is doing the debugging.\\n\\nGenerally, high-level programming languages, such as Java (programming language)|Java, make debugging easier, because they have features such as exception handling that make real sources of erratic behaviour easier to spot. In programming languages such as C (programming language)|C or assembly language|assembly, bugs may cause silent problems such as memory corruption, and it is often difficult to see where the initial problem happened. In those cases, memory debugging|memory debugger tools may be needed.\\n\\nIn certain situations, general purpose software tools that are language specific in nature can be very useful.  These take the form of \\'\\'List of tools for static code analysis|static code analysis tools\\'\\'.  These tools look for a very specific set of known problems, some common and some rare, within the source code.  All such issues detected by these tools would rarely be picked up by a compiler or interpreter, thus they are not syntax checkers, but more semantic checkers.  Some tools claim to be able to detect 300+ unique problems. Both commercial and free tools exist in various languages.  These tools can be extremely useful when checking very large source trees, where it is impractical to do code walkthroughs.  A typical example of a problem detected would be a variable dereference that occurs \\'\\'before\\'\\' the variable is assigned a value.  Another example would be to perform strong type checking when the language does not require such.  Thus, they are better at locating likely errors, versus actual errors.  As a result, these tools have a reputation of false positives.  The old Unix \\'\\'Lint programming tool|lint\\'\\' program is an early example.\\n\\nFor debugging electronic hardware (e.g., computer hardware) as well as low-level software (e.g., BIOSes, device drivers) and firmware, instruments such as oscilloscopes, logic analyzers or in-circuit emulator|in-circuit emulators (ICEs) are often used, alone or in combination.  An ICE may perform many of the typical software debugger\\'s tasks on low-level software and firmware.\\n\\nDebugging process \\nNormally the first step in debugging is to attempt to reproduce the problem. This can be a non-trivial task, for example as with Parallel computing|parallel processes or some unusual software bugs. Also, specific user environment and usage history can make it difficult to reproduce the problem.\\n\\nAfter the bug is reproduced, the input of the program may need to be simplified to make it easier to debug. For example, a bug in a compiler can make it Crash (computing)|crash when parsing some large source file. However, after simplification of the test case, only few lines from the original source file can be sufficient to reproduce the same crash. Such simplification can be made manually, using a Divide and conquer algorithm|divide-and-conquer approach. The programmer will try to remove some parts of original test case and check if the problem still exists. When debugging the problem in a Graphical user interface|GUI, the programmer can try to skip some user interaction from the original problem description and check if remaining actions are sufficient for bugs to appear.\\n\\nAfter the test case is sufficiently simplified, a programmer can use a debugger tool to examine program states (values of variables, plus the call stack) and track down the origin of the problem(s). Alternatively, Tracing (software)|tracing can be used. In simple cases, tracing is just a few print statements, which output the values of variables at certain points of program execution.{{citation needed|date=February 2016}}\\n\\n Techniques \\n \\'\\'Interactive debugging\\'\\'\\n \\'\\'{{visible anchor|Print debugging}}\\'\\' (or tracing) is the act of watching (live or recorded) trace statements, or print statements, that indicate the flow of execution of a process. This is sometimes called \\'\\'{{visible anchor|printf debugging}}\\'\\', due to the use of the printf function in C. This kind of debugging was turned on by the command TRON in the original versions of the novice-oriented BASIC programming language. TRON stood for, \"Trace On.\" TRON caused the line numbers of each BASIC command line to print as the program ran.\\n \\'\\'Remote debugging\\'\\' is the process of debugging a program running on a system different from the debugger. To start remote debugging, a debugger connects to a remote system over a network. The debugger can then control the execution of the program on the remote system and retrieve information about its state.\\n \\'\\'Post-mortem debugging\\'\\' is debugging of the program after it has already Crash (computing)|crashed. Related techniques often include various tracing techniques (for example,[http://www.drdobbs.com/tools/185300443 Postmortem Debugging, Stephen Wormuller, Dr. Dobbs Journal, 2006]) and/or analysis of memory dump (or core dump) of the crashed process. The dump of the process could be obtained automatically by the system (for example, when process has terminated due to an unhandled exception), or by a programmer-inserted instruction, or manually by the interactive user.\\n \\'\\'\"Wolf fence\" algorithm:\\'\\' Edward Gauss described this simple but very useful and now famous algorithm in a 1982 article for communications of the ACM as follows: \"There\\'s one wolf in Alaska; how do you find it? First build a fence down the middle of the state, wait for the wolf to howl, determine which side of the fence it is on. Repeat process on that side only, until you get to the point where you can see the wolf.\"<ref name=\"communications of the ACM\">{{cite journal | title=\"Pracniques: The \"Wolf Fence\" Algorithm for Debugging\", | author=E. J. Gauss | year=1982}} This is implemented e.g. in the Git (software)|Git version control system as the command \\'\\'git bisect\\'\\', which uses the above algorithm to determine which Commit (data management)|commit introduced a particular bug.\\n \\'\\'Delta Debugging\\'\\'{{snd}} a technique of automating test case simplification.Andreas Zeller: <cite>Why Programs Fail: A Guide to Systematic Debugging</cite>, Morgan Kaufmann, 2005. ISBN 1-55860-866-4{{rp|p.123}}<!-- for redirect from \\'Saff Squeeze\\' -->\\n \\'\\'Saff Squeeze\\'\\'{{snd}} a technique of isolating failure within the test using progressive inlining of parts of the failing test.[http://www.threeriversinstitute.org/HitEmHighHitEmLow.html Kent Beck, Hit \\'em High, Hit \\'em Low: Regression Testing and the Saff Squeeze]\\n\\nDebugging for embedded systems\\nIn contrast to the general purpose computer software design environment, a primary characteristic of embedded environments is the sheer number of different platforms available to the developers (CPU architectures, vendors, operating systems and their variants). Embedded systems are, by definition, not general-purpose designs: they are typically developed for a single task (or small range of tasks), and the platform is chosen specifically to optimize that application. Not only does this fact make life tough for embedded system developers, it also makes debugging and testing of these systems harder as well, since different debugging tools are needed in different platforms.\\n\\nto identify and fix bugs in the system (e.g. logical or synchronization problems in the code, or a design error in the hardware);\\nto collect information about the operating states of the system that may then be used to analyze the system: to find ways to boost its performance or to optimize other important characteristics (e.g. energy consumption, reliability, real-time response etc.).\\n\\nAnti-debugging\\nAnti-debugging is \"the implementation of one or more techniques within computer code that hinders attempts at reverse engineering or debugging a target process\".<ref name=\"veracode-antidebugging\">{{cite web |url=http://www.veracode.com/blog/2008/12/anti-debugging-series-part-i/ |title=Anti-Debugging Series - Part I |last=Shields |first=Tyler |date=2008-12-02 |work=Veracode |accessdate=2009-03-17}} It is actively used by recognized publishers in copy protection|copy-protection schemas, but is also used by malware to complicate its detection and elimination.<ref name=\"soft-prot\">[http://people.seas.harvard.edu/~mgagnon/software_protection_through_anti_debugging.pdf Software Protection through Anti-Debugging Michael N Gagnon, Stephen Taylor, Anup Ghosh] Techniques used in anti-debugging include:\\nAPI-based: check for the existence of a debugger using system information\\nException-based: check to see if exceptions are interfered with\\nProcess and thread blocks: check whether process and thread blocks have been manipulated\\nModified code: check for code modifications made by a debugger handling software breakpoints\\nHardware- and register-based: check for hardware breakpoints and CPU registers\\nTiming and latency: check the time taken for the execution of instructions\\nDetecting and penalizing debugger<ref name=\"soft-prot\" /><!-- reference does not exist -->\\n\\nAn early example of anti-debugging existed in early versions of Microsoft Word which, if a debugger was detected, produced a message that said: \"The tree of evil bears bitter fruit. Now trashing program disk.\", after which it caused the floppy disk drive to emit alarming noises with the intent of scaring the user away from attempting it again.<ref name=\"SecurityEngineeringRA\">{{cite book | url=http://www.cl.cam.ac.uk/~rja14/book.html | author=Ross J. Anderson | title=Security Engineering | isbn = 0-471-38922-6 | page=684 }}<ref name=\"toastytech\">{{cite web | url=http://toastytech.com/guis/word1153.html | title=Microsoft Word for DOS 1.15}}\\n'"
            ]
          },
          "metadata": {
            "tags": []
          },
          "execution_count": 16
        }
      ]
    },
    {
      "cell_type": "code",
      "metadata": {
        "id": "dixCRZxGFy2y"
      },
      "source": [
        "import nltk\n",
        "nltk.download('punkt')\n",
        "from nltk import word_tokenize\n",
        "\n",
        "# Import Counter\n",
        "____\n",
        "\n",
        "# Tokenize the article: tokens\n",
        "tokens = ____\n",
        "\n",
        "# Convert the tokens into lowercase: lower_tokens\n",
        "lower_tokens = [____ for ____ in ____]\n",
        "\n",
        "# Create a Counter with the lowercase tokens: bow_simple\n",
        "bow_simple = ____\n",
        "\n",
        "print('Las 12 palabras más comunes son:')\n",
        "\n",
        "# Print the 12 most common tokens\n",
        "print(____)\n"
      ],
      "execution_count": null,
      "outputs": []
    },
    {
      "cell_type": "markdown",
      "metadata": {
        "id": "0rxvxg_LNb-R"
      },
      "source": [
        "## Test 04\n",
        "**Instrucciones**\n",
        "1. Importe la clase **WordNetLemmatizer** de nltk.stem.\n",
        "2. Cree una lista **alpha_only** que contenga solo caracteres alfabéticos. Puede usar el método .isalpha() para verificar esto.\n",
        "3. Cree otra lista llamada **no_stops** que consta de palabras de alpha_only que no están contenidas en la lista **english_stops**\n",
        "4. Inicialice un objeto **WordNetLemmatizer** llamado **wordnet_lemmatizer** y use su método .lemmatize() en los tokens de no_stops para crear una nueva lista llamada lemmatized.\n",
        "5. Cree un nuevo contador llamado **bow** con las palabras lematizadas.\n",
        "6. Por último, imprima los 12 tokens más comunes o frecuentes."
      ]
    },
    {
      "cell_type": "code",
      "metadata": {
        "id": "uq45LI1RNi7H"
      },
      "source": [
        "import nltk\n",
        "nltk.download('wordnet')\n",
        "\n",
        "english_stops = ['i', 'me', 'my', 'myself', 'we', 'our', 'ours', 'ourselves', 'you', 'your', 'yours', 'yourself', 'yourselves', 'he', 'him', 'his', 'himself', 'she', 'her', 'hers', 'herself', 'it', 'its', 'itself', 'they', 'them', 'their', 'theirs', 'themselves', 'what', 'which', 'who', 'whom', 'this', 'that', 'these', 'those', 'am', 'is', 'are', 'was', 'were', 'be', 'been', 'being', 'have', 'has', 'had', 'having', 'do', 'does', 'did', 'doing', 'a', 'an', 'the', 'and', 'but', 'if', 'or', 'because', 'as', 'until', 'while', 'of', 'at', 'by', 'for', 'with', 'about', 'against', 'between', 'into', 'through', 'during', 'before', 'after', 'above', 'below', 'to', 'from', 'up', 'down', 'in', 'out', 'on', 'off', 'over', 'under', 'again', 'further', 'then', 'once', 'here', 'there', 'when', 'where', 'why', 'how', 'all', 'any', 'both', 'each', 'few', 'more', 'most', 'other', 'some', 'such', 'no', 'nor', 'not', 'only', 'own', 'same', 'so', 'than', 'too', 'very', 's', 't', 'can', 'will', 'just', 'don', 'should', 'now', 'd', 'll', 'm', 'o', 're', 've', 'y', 'ain', 'aren', 'couldn', 'didn', 'doesn', 'hadn', 'hasn', 'haven', 'isn', 'ma', 'mightn', 'mustn', 'needn', 'shan', 'shouldn', 'wasn', 'weren', 'won', 'wouldn', '']\n",
        "\n",
        "# Import WordNetLemmatizer\n",
        "____\n",
        "\n",
        "# Retain alphabetic words: alpha_only\n",
        "alpha_only = [t for t in ____ if ____]\n",
        "\n",
        "# Remove all stop words: no_stops\n",
        "no_stops = [t for t in ____ if t not in ____]\n",
        "\n",
        "# Instantiate the WordNetLemmatizer\n",
        "wordnet_lemmatizer = ____\n",
        "\n",
        "# Lemmatize all tokens into a new list: lemmatized\n",
        "lemmatized = [____ for t in ____]\n",
        "\n",
        "# Create the bag-of-words: bow\n",
        "bow = ____(____)\n",
        "\n",
        "# Print the 12 most common tokens\n",
        "print(____.____(__))\n"
      ],
      "execution_count": null,
      "outputs": []
    },
    {
      "cell_type": "markdown",
      "metadata": {
        "id": "YzFLyuQ-aXaV"
      },
      "source": [
        "## Test 06\n",
        "\n",
        "**Usando Gensim**\n",
        "\n",
        "https://www.machinelearningplus.com/nlp/gensim-tutorial/\n",
        "\n",
        "**Instrucciones**\n",
        "0. Lea, y tokenize el archivo articles.txt para generar la lista de palabras **articles**\n",
        "1. Importe Dictionary de gensim.corpora.dictionary.\n",
        "2. Inicialice un diccionario gensim con los tokens en articulos.\n",
        "3. Obtenga el **id** de \"computer\" desde  **dictionary**. Para hacer esto, use su método .token2id que devuelve los ids de texto, y luego encadene *.get()* que devuelve tokens a partir de un id. Pase \"computer\" como argumento de *.get()*.\n",
        "4. Utilice una lista comprimida en la que iterará sobre los artículos para crear un gensim MmCorpus a partir de dictionary.\n",
        "5. En la expresión de salida, use el método .doc2bow() en dictionary con artículo como argumento.\n",
        "6. Imprima las primeras 10 identificaciones de palabras con sus recuentos de frecuencia desde el quinto documento."
      ]
    },
    {
      "cell_type": "code",
      "metadata": {
        "colab": {
          "base_uri": "https://localhost:8080/"
        },
        "id": "TPTyyp_H6G_B",
        "outputId": "ddd09a9c-ad51-4651-e66f-29c2f5d858bd"
      },
      "source": [
        "with open('/content/articles.txt', mode='r', encoding='utf-8-sig') as f:\n",
        "  farticles = f.read().splitlines()\n",
        "narticles = [fa for fa in farticles if len(fa)>0]\n",
        "len(narticles)\n"
      ],
      "execution_count": null,
      "outputs": [
        {
          "output_type": "execute_result",
          "data": {
            "text/plain": [
              "104"
            ]
          },
          "metadata": {
            "tags": []
          },
          "execution_count": 26
        }
      ]
    },
    {
      "cell_type": "code",
      "metadata": {
        "colab": {
          "base_uri": "https://localhost:8080/"
        },
        "id": "gnmmWy4q9Qd-",
        "outputId": "c7f51211-2431-4098-b9ef-63855f1c2378"
      },
      "source": [
        "import nltk\n",
        "nltk.download('punkt')\n",
        "nltk.download('stopwords')\n",
        "from nltk.corpus import stopwords\n",
        "from nltk.tokenize import word_tokenize\n"
      ],
      "execution_count": null,
      "outputs": [
        {
          "output_type": "stream",
          "text": [
            "[nltk_data] Downloading package punkt to /root/nltk_data...\n",
            "[nltk_data]   Unzipping tokenizers/punkt.zip.\n",
            "[nltk_data] Downloading package stopwords to /root/nltk_data...\n",
            "[nltk_data]   Unzipping corpora/stopwords.zip.\n"
          ],
          "name": "stdout"
        }
      ]
    },
    {
      "cell_type": "code",
      "metadata": {
        "colab": {
          "base_uri": "https://localhost:8080/"
        },
        "id": "uWMom4pTEVj9",
        "outputId": "64e1f1cb-747f-4730-b22c-b314269a0457"
      },
      "source": [
        "# adding lowercase to docs\n",
        "tokens = [[w for w in word_tokenize(a.lower())] for a in narticles]\n",
        "# removing stopwords\n",
        "\n",
        "articles = [[t for t in tns if t not in stopwords.words('english')] for tns in tokens]\n",
        "articles[0:2]"
      ],
      "execution_count": null,
      "outputs": [
        {
          "output_type": "execute_result",
          "data": {
            "text/plain": [
              "[['image',\n",
              "  'copyright',\n",
              "  'epa',\n",
              "  'image',\n",
              "  'caption',\n",
              "  'uber',\n",
              "  'criticised',\n",
              "  'many',\n",
              "  'times',\n",
              "  'way',\n",
              "  'runs',\n",
              "  'business'],\n",
              " ['ride-sharing',\n",
              "  'firm',\n",
              "  'uber',\n",
              "  'facing',\n",
              "  'criminal',\n",
              "  'investigation',\n",
              "  'us',\n",
              "  'government',\n",
              "  '.']]"
            ]
          },
          "metadata": {
            "tags": []
          },
          "execution_count": 27
        }
      ]
    },
    {
      "cell_type": "code",
      "metadata": {
        "id": "aodM3VMUW37w"
      },
      "source": [
        "# Import Dictionary \n",
        "import gensim\n",
        "from gensim.corpora.dictionary import ____\n",
        "\n",
        "# Create a Dictionary from articles: dictionary\n",
        "dictionary = ____(____)\n",
        "print(dictionary)"
      ],
      "execution_count": null,
      "outputs": []
    },
    {
      "cell_type": "code",
      "metadata": {
        "id": "8gZjjm6Qbdmw"
      },
      "source": [
        "# Select the id for \"computer\": computer_id\n",
        "computer_id = ____.____.get(\"____\")\n",
        "\n",
        "# Use computer_id with the dictionary to print the word\n",
        "print(dictionary.get(computer_id))\n",
        "\n",
        "# Create a MmCorpus: corpus\n",
        "corpus = [____.____(____) for article in articles]\n",
        "\n",
        "# Print the first 10 word ids with their frequency counts from the fifth document\n",
        "print(corpus[4][:10])\n"
      ],
      "execution_count": null,
      "outputs": []
    },
    {
      "cell_type": "code",
      "metadata": {
        "id": "2Ww2VmPwXeJV"
      },
      "source": [
        "# Note dictionary vector\n",
        "dictionary.token2id\n",
        "word_counts = [[(dictionary[id], count) for id, count in line] for line in corpus]\n",
        "print(word_counts)"
      ],
      "execution_count": null,
      "outputs": []
    },
    {
      "cell_type": "markdown",
      "metadata": {
        "id": "D_vsGFApQrz2"
      },
      "source": [
        "##Test 07\n",
        "\n",
        "**Instrucciones**\n",
        "1. Use el primer bucle for para imprimir las cinco palabras principales de *bow_doc* usando cada *word_id* con el **dictionary** junto con *word_count*. Se puede acceder a word_id utilizando el método de diccionario .get().\n",
        "2. Cree un diccionario predeterminado llamado **total_word_count** en el que las claves son todos los ID de token (word_id) y los valores son la suma de su ocurrencia en todos los documentos (word_count). Recuerde especificar int cuando cree el *defaultdict*, y dentro del segundo bucle for, incremente cada **word_id** de *total_word_count* con **word_count**.\n",
        "3. Cree una lista ordenada a partir del diccionario predeterminado, utilizando palabras en todo el corpus. Para lograr esto, use el método .items() en total_word_count dentro del método sorted().\n",
        "4. De forma similar a como imprimió las cinco palabras principales de *bow_doc* anteriormente, imprima las cinco palabras principales de **sorted_word_count**, así como el número de ocurrencias de cada palabra en todos los documentos."
      ]
    },
    {
      "cell_type": "code",
      "metadata": {
        "id": "Syx61IKMYuLa"
      },
      "source": [
        "from collections import defaultdict\n",
        "import  itertools\n",
        "# Save the fifth document: doc\n",
        "doc = corpus[4]\n",
        "\n",
        "# Sort the doc for frequency: bow_doc\n",
        "bow_doc = sorted(doc, key=lambda w: w[1], reverse=True)\n",
        "\n",
        "# Print the top 5 words of the document alongside the count\n",
        "for word_id, word_count in bow_doc[:5]:\n",
        "    print(dictionary.____(____), ____)\n",
        "    \n",
        "# Create the defaultdict: total_word_count\n",
        "total_word_count = ____\n",
        "for word_id, word_count in itertools.chain.from_iterable(corpus):\n",
        "    ____[____] += ____\n",
        "\n",
        "# Create a sorted list from the defaultdict: sorted_word_count\n",
        "sorted_word_count = sorted(____, key=lambda w: w[1], reverse=True) \n",
        "\n",
        "# Print the top 5 words across all documents alongside the count\n",
        "for ____, ____ in sorted_word_count[:5]:\n",
        "    print(____.____(____), ____)\n"
      ],
      "execution_count": null,
      "outputs": []
    },
    {
      "cell_type": "markdown",
      "metadata": {
        "id": "CvU8IeN1R8od"
      },
      "source": [
        "##Test 09\n",
        "\n",
        "**Instrucciones**\n",
        "\n",
        "1. Inicialice un nuevo TfidfModel llamado **tfidf** usando el corpus anterior.\n",
        "2. Utilice doc para calcular los pesos. Puede hacer esto pasando *[doc]* a **tfidf**.\n",
        "3. Imprime los primeros cinco identificadores de términos con pesos.\n",
        "4. Ordene los identificadores y pesos de los términos en una nueva lista de mayor a menor peso.\n",
        "5. Con su diccionario preexistente **dictionary**, imprima las cinco palabras ponderadas principales **(term_id)** de **sorted_tfidf_weights**, junto con su puntuación ponderada (ponderación).\n"
      ]
    },
    {
      "cell_type": "code",
      "metadata": {
        "id": "n4sWI6l7Z6M3"
      },
      "source": [
        "from gensim.models.tfidfmodel import TfidfModel\n",
        "\n",
        "# Create a new TfidfModel using the corpus: tfidf\n",
        "tfidf = ____\n",
        "\n",
        "# Calculate the tfidf weights of doc: tfidf_weights\n",
        "tfidf_weights = ____\n",
        "\n",
        "# Print the first five weights\n",
        "print(____)\n",
        "\n",
        "# Sort the weights from highest to lowest: sorted_tfidf_weights\n",
        "sorted_tfidf_weights = sorted(tfidf_weights, key=lambda w: w[1], reverse=True)\n",
        "\n",
        "# Print the top 5 weighted words\n",
        "for term_id, weight in sorted_tfidf_weights[:5]:\n",
        "    print(____.get(____), ____)"
      ],
      "execution_count": null,
      "outputs": []
    },
    {
      "cell_type": "markdown",
      "metadata": {
        "id": "VuRFRNQLas-X"
      },
      "source": [
        "## Test 10\n",
        "**Las palabras más frecuentes de los 3 articulo de Wikipedia son:**"
      ]
    },
    {
      "cell_type": "code",
      "metadata": {
        "id": "ooxelBbya3if"
      },
      "source": [
        "files = [\"wiki_text_bug.txt\",\"wiki_text_computer.txt\",\"wiki_text_crash.txt\"]"
      ],
      "execution_count": null,
      "outputs": []
    },
    {
      "cell_type": "markdown",
      "metadata": {
        "id": "Ln5hGACj8Otd"
      },
      "source": [
        "## Test 11\n",
        "\n",
        "**Las palabras más frecuentes de los 6 articulo de Wikipedia son:**"
      ]
    },
    {
      "cell_type": "code",
      "metadata": {
        "id": "Bq_hKwny8bHs"
      },
      "source": [
        "files = [\"wiki_text_bug.txt\",\"wiki_text_computer.txt\",\"wiki_text_crash.txt\",\"wiki_text_debugger.txt\",\"wiki_text_debugging.txt\",\"wiki_text_crash.txt\"]"
      ],
      "execution_count": null,
      "outputs": []
    },
    {
      "cell_type": "markdown",
      "metadata": {
        "id": "dxI7b-LS8cF3"
      },
      "source": [
        "## Test 12\n",
        "\n",
        "**Las palabras más frecuentes de todos los articulos de Wikipedia son:**"
      ]
    },
    {
      "cell_type": "code",
      "metadata": {
        "id": "26Gwv4cc8m2_"
      },
      "source": [
        ""
      ],
      "execution_count": null,
      "outputs": []
    }
  ]
}